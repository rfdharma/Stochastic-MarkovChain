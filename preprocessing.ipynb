{
 "cells": [
  {
   "cell_type": "code",
   "execution_count": 102,
   "metadata": {},
   "outputs": [],
   "source": [
    "import pandas as pd\n",
    "\n",
    "\n",
    "lemonilo = pd.read_csv('lemonilo.csv',sep=';')\n",
    "popmie = pd.read_csv('popMie.csv')\n",
    "indomie = pd.read_csv('indomie.csv')\n",
    "gacoan = pd.read_csv(\"gacoan_tweet (1).csv\")\n"
   ]
  },
  {
   "cell_type": "code",
   "execution_count": 103,
   "metadata": {},
   "outputs": [
    {
     "data": {
      "text/plain": [
       "(159, 14)"
      ]
     },
     "execution_count": 103,
     "metadata": {},
     "output_type": "execute_result"
    }
   ],
   "source": [
    "df = pd.concat([lemonilo, popmie, indomie, gacoan], axis=0, ignore_index=True)\n",
    "\n",
    "df.shape"
   ]
  },
  {
   "cell_type": "code",
   "execution_count": 104,
   "metadata": {},
   "outputs": [
    {
     "data": {
      "text/plain": [
       "(142, 1)"
      ]
     },
     "execution_count": 104,
     "metadata": {},
     "output_type": "execute_result"
    }
   ],
   "source": [
    "df = df[df['full_text'].str.split().apply(len) >= 7]\n",
    "\n",
    "df = df[['full_text']]\n",
    "df.shape"
   ]
  },
  {
   "cell_type": "code",
   "execution_count": 105,
   "metadata": {},
   "outputs": [],
   "source": [
    "import re\n",
    "import emoji\n",
    "import string\n",
    "import pandas as pd\n",
    "\n",
    "def preprocess_text(original_text):\n",
    "    # Menghapus URL\n",
    "    processed_text = re.sub(r'http\\S+', '', original_text)\n",
    "\n",
    "    # Menghapus username Twitter (@user123)\n",
    "    processed_text = re.sub(r'@\\w+', '', processed_text)\n",
    "\n",
    "    # Menghapus hashtag (#PythonProgramming)\n",
    "    processed_text = re.sub(r'#\\w+', '', processed_text)\n",
    "\n",
    "    # Menghapus karakter yang berulang, lebih dari 2 kali\n",
    "    processed_text = re.sub(r'(\\w)\\1{2,}', r'\\1', processed_text)\n",
    "\n",
    "    # Membersihkan emoji tanpa menghapus\n",
    "    emojis = set([char for word in processed_text.split() for char in list(word) if char in emoji.UNICODE_EMOJI])\n",
    "    emojis_names = [emoji.demojize(e).replace(':', '').replace('_', ' ') for e in emojis]\n",
    "    processed_text = processed_text + ' ' + ' '.join(emojis_names)\n",
    "\n",
    "    # Menghapus tanda baca\n",
    "    processed_text = processed_text.translate(str.maketrans('', '', string.punctuation))\n",
    "\n",
    "    # Menghapus angka\n",
    "    processed_text = re.sub(r'\\d+', '', processed_text)\n",
    "\n",
    "    return processed_text.strip().lower()\n",
    "\n",
    "# Applying the preprocess_text function to the 'full_text' column\n",
    "df['full_text'] = df['full_text'].apply(lambda x: preprocess_text(x))\n"
   ]
  },
  {
   "cell_type": "code",
   "execution_count": 106,
   "metadata": {},
   "outputs": [],
   "source": [
    "def final_preprocess(original_text):\n",
    "\n",
    "    processed_text = original_text.replace('\\u200d♀️', '')\n",
    "\n",
    "    processed_text = processed_text.replace('\\u200d', '')\n",
    "    processed_text = processed_text.replace('\\u200b', '')\n",
    "    \n",
    "    processed_text = processed_text.replace('\\U0001f979\\u200b', '')\n",
    "\n",
    "    processed_text = processed_text.replace('\\U0001f979', '')\n",
    "\n",
    "    processed_text = re.sub(r'\\blemonilo\\b|\\blemonizen\\b|\\bindomie\\b|\\bgacoan\\b|\\blemonizen\\b|\\bpop\\b', '', processed_text)\n",
    "\n",
    "    # Menghapus multiple space\n",
    "    processed_text = re.sub(r'\\s+', ' ', processed_text)\n",
    "\n",
    "    return processed_text.strip().lower()\n",
    "\n",
    "df['full_text'] = df['full_text'].apply(lambda x: final_preprocess(x))"
   ]
  },
  {
   "cell_type": "code",
   "execution_count": 107,
   "metadata": {},
   "outputs": [
    {
     "data": {
      "text/plain": [
       "(142, 1)"
      ]
     },
     "execution_count": 107,
     "metadata": {},
     "output_type": "execute_result"
    }
   ],
   "source": [
    "df.shape"
   ]
  },
  {
   "cell_type": "code",
   "execution_count": 108,
   "metadata": {},
   "outputs": [],
   "source": [
    "df.drop_duplicates(subset='full_text', keep='first', inplace=True)\n",
    "\n",
    "df.reset_index(drop=True, inplace=True)\n"
   ]
  },
  {
   "cell_type": "code",
   "execution_count": 111,
   "metadata": {},
   "outputs": [
    {
     "data": {
      "text/plain": [
       "array([['mie spekta rasa ramen jepang bisa kamu beli secara online di website atau aplikasi dan official store di shopee tokopedia dan tiktok shop borong sekarang juga'],\n",
       "       ['liat chef hideki nyeruput kuah mie ramen jepang jadi ngiler banget deh 🤤 sekarang ramen time di rumah jadi lebih oishiip bareng mie spekta rasa ramen jepang yuk buruan cobain'],\n",
       "       ['chef hideki aja udah cobain mie ramen jepang kamu kapan nih yuk nikmati lezatnya citarasa ramen dalam mie varian baru mie spekta rasa ramen jepang oishiip'],\n",
       "       ['masih produksi kak mie dan beberapa snack seperti chimi ubi brownies crispy cassamo dan sola farm bisa kakak temui di indomaret maupun alfamart terdekat serta beberapa supermarket lainnya semoga membantu ya kak 😊🙏🏻 terima kasih'],\n",
       "       ['halo kak mie tetap pakai standart tanpa p tanpa pengawet tanpa penguat rasa dan tanpa pewarna buatan ya baik mie maupun bumbunya jadi kita nggak pakai micin di mie maupun bumbunya semoga menjawab ya 😊🙏🏻'],\n",
       "       ['sekarang harga mie ribuan kak semisal mau lebih murah lagi bisa pantengin instagram story atau tiktok live juga buat promopromo flash salenya semoga membantu 😊🙏🏻'],\n",
       "       ['betul sekarang harga mie jadi ribuan 😁 selain itu dari segi rasa tekstur dan kualitas lainnya terus kami coba perbaiki kak jadi sekalipun harga turun nggak perlu khawatir kualitas ikut menurun ya karena kami upayakan agar kualitasnya terus meningkat 🙏🏻'],\n",
       "       ['favorite moni selain natriumnya lebih sedikit rasanya enak dan teksturnya sedikit beda dengan varian mie yang lain karena ini dari mie konjak🥰'],\n",
       "       ['mie yang dipanggang bukan digoreng hadir🙋🏻'],\n",
       "       ['ini sampe capslock jebol pasti beneran menikmati mie bangeet nih seneng bacanya kak 🥰 semoga bisa selalu jadi comfort food kamu ya'],\n",
       "       ['jalan tengahnya makan mie soto koya kak 😌🙏🏻'],\n",
       "       ['opor ayam rendang sama bakso nder biasanya kalau pagi tuh opor ayam dan kadang ada alternatif rendang siangan dikit kelar halal bihalal keliling yang dimakan bakso sorean kalau dah laper lagi bikin mie instan'],\n",
       "       ['sahur dan berbuka makin nikmat dengan mie harga an resepnya wajib kamu coba ya 😍'],\n",
       "       ['mie kangkung pakenya varian mie goreng'],\n",
       "       ['saat ini baru varian mie goreng kak yang harganya lima ribuan silakan nyalakan lonceng atau notifikasinya untuk update harga terbaru dari cuss langsung serbu supermarket terdekat kamu 🥰'],\n",
       "       ['selalu melangkah untuk menyehatkan masyarakat indonesia dengan harga ribuan memberi yang terbaik untuk semua yuk serbu mie di alfamart dan indomaret terdekatmu'],\n",
       "       ['atas petir lawan angin mana gelapgelapan sendirian mending sedia stock kayak telur abon mie atau telur asin aja nder 😭🙏🏻'],\n",
       "       ['siapa yang ngalamin sahur kesiangan juga gak perlu khawatir yuk recook resepnya pake mie rendang eitsstapi jangan lupa tambahin protein amp sayur juga ya biar tetep kuat puasanya 😉'],\n",
       "       ['kreatif kadang moni juga begini tapi mienya dimasak setengah mateng terus baru dicampur nasi dan bumbunya barengan coba aja kak bisa juga beli saus bolognese kemasan dicampur sama varian mie rendang ini manteeup banget 😍'],\n",
       "       ['emaknya dah ceklakceklek kompor mau bikin mie rebus anget tuh bang pulang bang sebelum keluar kalimat “masak sendiri aja sono”'],\n",
       "       ['pasti kalau abangnya jualan mie mienya meski lurus tetep disisir ulang biar rapi dan dipotong sama rata nih 😁'],\n",
       "       ['dengan rasa khas yang terinspirasi dari kelembutan alam nikmatnya mie goreng siap manjain lidah dan temani kamu untuk gapai semua mimpimu💚'],\n",
       "       ['biasanya sekali beli butir telur jadi selalu ditaruh di suhu ruang nice info kak 👏🏻 jadi tahu gimana nyimpen topping andalan mie satu ini'],\n",
       "       ['mie ✅ telur ✅ tempe ungkep ✅ ayam ungkep ✅ michoco ✅ chimi ubi ✅ buah yang awet di suhu ruang kayak apel pisang sama buah naga ✅ sisanya bahan makanan mentah yang cuma tahan hari kayaknya'],\n",
       "       ['buat anak kost yang badannya mungil dan nyaman aja di space yang kecil ini oke cuma lihat rak atas jadi pengen nyempilin mie di sana 😔'],\n",
       "       ['tergantung tanggal dan stock bahan nder kadang apa adanya tapi kalau lagi ada duit dan bahan pake loncang atau daun bawang cabe sama kornet kalau kepepet banget biar jadi lauk sehari x ala anak kostan dibikin omelette mie aja sekalian 😁'],\n",
       "       ['berasa nostalgia warnet jaman smp dulu bayarnya dua ribu sejam ini paling enak kalau pesen mie kuah kari ayam pake topping telur makin betah 👍🏻'],\n",
       "       ['hujanhujan enaknya… mie kuah kari tambahin topping favoritmu biar makin mantap 😋'],\n",
       "       ['mie turun harga🔥🔥🔥 sekarang harga mie cuma rp lho yuk buruan borong di terdekatmu'],\n",
       "       ['sebelum pamit gimana nih acara nct dream fan event hari ini banyak faktafakta memberdeul yang menarik nggak sih termasuk pilihan topping mie mereka yang menggugah selera dan unik😍'],\n",
       "       ['sejauh ini tampilan topping mie lemonilonya renjun yang lokal banget cabenya manteup 😍 ada yang kalau makan mie toppingnya kayak renjun gini juga harus ada cabe 🌶'],\n",
       "       ['tolong yang di rumahnya ada daun ketumbar boleh langsung kirim ke jaemin topping mie yang dicari daun ketumbar nih mana ditambah ginseng juga doyan nggak kalau yang masakin jaemin pake topping ginseng sama daun ketumbar 😁'],\n",
       "       ['ada yang bisa nyebutin nggak tadi chenle masukkin apa aja ke mie lemonilonya 😆 toppingnya banyak banget'],\n",
       "       ['fyi renjun suka mie goreng jeno suka kari ayam jaemin suka ayam bawang chenle paling suka mie goreng sama rendang jisung suka mie goreng sama pedas korea kalau kamu sukanya varian kayak siapa nih 🤭'],\n",
       "       ['sebelum mulai rutinitas lagi di hari senin yuk kita santai sejenak bareng mie di hari minggu ini kita hargai perjuangan dan setiap proses yang kita lewatin dalam seminggu ini kalo kamu udah ngelewatin hal seru apa aja di minggu ini'],\n",
       "       ['mana nih topping telur favorit yang sering kamu makan bareng mie 😍🍜'],\n",
       "       ['‼️ last call ‼️ panggilan terakhir buat besok hari terakhir nih yuk buruan beli mie dan jadi bagian dari orang pemenang yang bakal seruseruan bareng member nct dream buruan beli amp daftar sekarang juga'],\n",
       "       ['buat kamu yang mau ikutan nct dream online fan event masih ada kesempatan lho yuk beli mie pcs varian apapun dan daftarkan diri kamu di'],\n",
       "       ['bulan januari udah pasti identik sama hujan sekarang kalo mau makan aja sampe nyesuain milihnya yang pedes atau hangat pas banget si kalo mie pedas korea jadi pilihan kamu akhirakhir ini coba absen pake emot 💚 yang setuju mie pedas korea endulita dimakan pas ujan'],\n",
       "       ['boleeh dong pokoknya mie varian apapun yang penting ada tulisan dan logo nct dream ya good luck 😍'],\n",
       "       ['kemudian daftarkan diri kamu di pendaftaran ini akan dibuka dalam periode januari akan mengundi peserta yang beruntung untuk mengikuti kegiatan ini yuk buruan beli mie dan wujudkan mimpimu'],\n",
       "       ['hai ayo wujudkan mimpi kamu bertemu nct dream di nct dream online fan event bersama 🥳🥳🥳 caranya gampang cukup beli bungkus mie kemasan spesial nct dream di marketplace minimarket kesayangan kamu'],\n",
       "       ['tahun baru semangat baru yuk semangati pagimu dengan mie rendang ✨ aroma dan rasa rendangnya manjadin siap manjain lidahmu'],\n",
       "       ['harihari ngebadut 🤡🤡 yaudahlah walau jadi badut tapi tetep skuy seruput mie'],\n",
       "       ['siapa nih yang juga jadi pada kicep pas nyokapnya temen tibatiba masuk pas klean lagi mabar untung yang dibawain mie fix lanjut seru terus kuy'],\n",
       "       ['baru x mie tori miso ramen usahagi naburo dan lutfy udah siap seseruan kapan aja dan di mana aja kuy sobisan nikmatin kolaborasi x mie tori miso ramen dengan topping nori'],\n",
       "       ['omaygat ternyata sobi ini cuma perlu seruput mie biar mood nya jadi happy lagi dan sekarang doi jadi nyetok mie biar selalu skuyy cr yukpopmie'],\n",
       "       ['mimin penasaran deh ini si mbak merah sama bisa bikin seru kayak mie ayam gak ya sob'],\n",
       "       ['sobisobi kuy nonton video full edisi receh battle ini di youtube mie official akhir kata makasih yak sob udah ngikutin keseruan di ramadan kali ini makan yuyu baekbaek kelolodan see you di ramadan taun depan'],\n",
       "       ['biar kata mabar lo gg atau enggak yang penting nikmatin aja dulu pedesnya hidup lo pake mie pedas dower pangsit jontor pasti tetep berasa gacorr sob'],\n",
       "       ['jebakan dating apps 😵💫 💗ketemu crush💗 🍜seruput 🍜 🥰ngobrol🥰 mie 💔💔ghosting💔💔'],\n",
       "       ['biar gak keabisan bundlingbundling menguntungkannya buru deh lo pada sikat di mie official store ecommerce langganan lo cek sekarang juga di'],\n",
       "       ['hal yang dipikirin sebelum sampe pos tenda bikin tenda masak air panas nyeruput mie beneran gak nih sobisobi yang anak gunung'],\n",
       "       ['ngepop mie sambil belajar fisika kudu belajar biar lulus denger denger sobi jakarta ada yang pinjem seratus'],\n",
       "       ['cie yang degdegan mau war tiket kalo kata mimin sih janlup sediain yang yellowyellow kayak mie kari ayam biar ngewar lebih siap'],\n",
       "       ['foto mamang mie lagi nyeruput kenikmatan mie jadi kesebar deh'],\n",
       "       ['pemangsa sekali seruput mie langsung dihabisi'],\n",
       "       ['mau kumpul pake baju warna apa kek asal ditemenin mie mah jadi lebih seru'],\n",
       "       ['serakah ate all your faves up alias semua rasa mie enak banget sob'],\n",
       "       ['ada yang tau siapa dedek sobi kedinginan di video ini mimin mau kasih hadiah mie nih karena mimin tau kalo ngepop mie abis berenang kayak doi tuh enak banget rasanya'],\n",
       "       ['mudik naek kereta pas masih puasa sob bae lo pada bablas ketiduran ntar alamat sahur kepepet eits tapi mah selama lo udah stok mie selama di kereta mah pasti aman menit langsung jadi sahur kepepet langsung teratasi source'],\n",
       "       ['karna mamang mie tugasnya bikin puasa kalian lebih seru dan manteb gw buka challenge aja deh nih buat antumantum semwa nih ya tantang mamang apa yang bisa mamang lakuin sembari nyeruput mie di ramadan kali ini gas langsung reply aja twit ini yak'],\n",
       "       ['hai sob mie bisa di beli di toko terdekat atau online disini yaa'],\n",
       "       ['bete amp puyeng abis sekolahkuliahkerja emang paling enak diseruin lagi dengan cara kreatifkreatifan sama mie sob anyway lo semua pada masuk sekte kreatif mie yang mana nih dari gambar ini'],\n",
       "       ['wah mantap nih sobi jago pantun pasti sering ngepop mie juga ya sob xixi'],\n",
       "       ['stok mie biar nggak kena jebakan sob pas banget lagi ada promo palugada buruan check out sebelum sold out'],\n",
       "       ['dapet sedus mie sob kirakira tau dedek sobi yang di video gak nihh'],\n",
       "       ['halo sob mie pakai nasi sudah tidak diproduksi lagi yaa🙏'],\n",
       "       ['halo sob mohon maaf atas ketidak nyamanannya ada foto bungkus mie yang terlihat jelas kode produksi dan tanggal kadaluarsanya ke kalau ada mohon kirimkan ke dm ya sob terima kasih'],\n",
       "       ['kalo adanya pc mamang mie tetep mau borong juga kan sobb'],\n",
       "       ['mahkota mie lo sedang disortir di cakung sob🙏'],\n",
       "       ['cobain mie tori miso sekarang sobbu manzoku rasanya🙌🏻'],\n",
       "       ['gapapa sob ngepop mie bikin seru lanjut lagih'],\n",
       "       ['hai sob mie mi goreng pedas sekarang sudah berubah menjadi mie goreng pedes gledeek ya terima kasih 😊'],\n",
       "       ['halo sob tengkyu udah seruput mie untuk nemenin lo di kereta mimin minta izin untuk memfitur foto ini apakah boleh mohon dm mimin ya'],\n",
       "       ['jadi lo termasuk korban mie yang mana'],\n",
       "       ['mohon maaf sebelumnya sob namun untuk dapat membuat laporan kami memerlukan foto bungkusnya beserta kode produksi amp tanggal kadaluarsanya jika kedepannya menemukan produk mie yang tidak sesuai mohon disimpan terlebih dahulu ya sob bungkusnya🙏'],\n",
       "       ['lthalo sob mohon maaf atas ketidak nyamanannya ada foto bungkus mie yang terlihat jelas kode produksi dan tanggal kadaluarsanya kalau ada mohon kirimkan ke dm kami ya sob terima kasih'],\n",
       "       ['makasih banyak buat kleanklean yang terus mendukung pencarian berfaedah ini ya sampai jumpa di keseruan mie selanjutnya sob'],\n",
       "       ['sekarang doi udah gak ngepop mie sambil menggigil di kolam renang lagi udah gede anaknya 😁 btw juga doi tinggal di cirebon loh mana nih sobisobi cirebon suaranya'],\n",
       "       ['kunci percintaannya di dimas nih sob🤔🤔 makanya beliin dimas sedus mie biar dia jadi badutnya tambah seru sob xixi🤭'],\n",
       "       ['berhubung ramadhan adalah bulan penuh berkah ada baiknya gw ngelakuin yg bisa gw lakuin buat nambah pahala duit hehe nah makanya gw balik lagi nih jadi mamang mie buat bikin puasa sobisobi mieku makin seru'],\n",
       "       ['udah lah daripada jadinya lo malah pusing tujuh keliling muter kayak starling mending langsung aja ke dan abisin thr lo buat beli mie biar hari lo tetep seru terus kuy'],\n",
       "       ['logo twitter boleh berubah tapi kalo promo mie mah tetep ada terus sob kuy cek promo terbaru mie di sini masih ada promo popkalcer beli mie dapet joey bag keren'],\n",
       "       ['lo harus jadi top spender bundle mie bisa beli paket jurus sabi bundle pcs atau cartondus isi atau pcs cuman berlaku pembelian melalui beli mie sebanyakbanyaknya selama periode maret april ya'],\n",
       "       ['ketika tidur mau lelap tibatiba baru ke inget belom beli kuah soto mie buat sahur 😐'],\n",
       "       ['maaf ya kak blok mie nya jadi berjamur cuss melipir ke dm yuk mohon bisa mengirimkan foto di atas sekalian foto kode produksi dan tanggal kadaluarsa produk tersebut ya terima kasih 🙏'],\n",
       "       ['maafin ya kak minyaknya bocor yuk ke dm yuk kita marahin minyaknya mohon bisa melampirkan foto kondisi mie dan bumbu foto kode produksi dan tanggal kadaluarsa juga ya terima kasih 🙏'],\n",
       "       ['mohon maaf ya kak cuss ke dm yuk mohon untuk melampirkan foto kondisi mie dan bumbu foto kode produksi dan tanggal kadaluarsa juga ya terima kasih 🙏'],\n",
       "       ['yah maaf kak kecapnya bocor jika berkenan bisa yuk cuss ke dm mohon bisa melampirkan foto kondisi mie dan bumbu foto kode produksi dan tanggal kadaluarsa juga ya terima kasih 🙏'],\n",
       "       ['mohon maaf ya kak bumbunya hilang jika berkenan yuk sini sini mampir ke dm jangan lupa untuk menyertakan video di atas foto mie dan bumbu foto kode produksi dan serta foto tanggal kadaluarsa produk yang bermasalah ya terima kasih 🙏'],\n",
       "       ['😱 maaf ya kaa tapi ada hack terbaru caranya kakak bisa langsung cuss ke dm lalu melampirkan foto kode produksi dan tanggal kadaluarsa serta foto kondisi mie dan bumbu terima kasih 🙏'],\n",
       "       ['halo kak mohon maaf atas ketidaknyamanannya jika berkenan boleh mengirimkan foto di atas ke dm juga foto kondisi blok mie dan bumbu ya terima kasih 🙏'],\n",
       "       ['maafin aku kak sini sini kirimin foto kondisi mie dan bumbunya juga foto kode produksi dan tanggal kadaluarsa ke dm ya maacih 😟🙏'],\n",
       "       ['hiks maafin bumbunya melarikan diri yuk kak kita cari samasama di dm kakak bisa mengirimkan foto kode produksi dan tanggal kadaluarsa produknya serta foto kondisi mie dan bumbunya juga ya terima kasih 🙏'],\n",
       "       ['halo kak mohon maaf ya bumbunya bocor 😭 mohon bisa dikirimkan foto kondisi mie dan bumbu foto kode produksi serta tangga kadaluarsanya ke dm ya kak terima kasih 🙏'],\n",
       "       ['mohon maaf ya bawang gorengnya hilang jika berkenan yuk sini sini mampir ke dm jangan lupa untuk menyertakan video di atas foto mie dan bumbu foto kode produksi dan serta foto tanggal kadaluarsa produk yang bermasalah ya terima kasih 🙏'],\n",
       "       ['halo kak mohon maaf atas ketidaknyamanannya mohon bisa mengirimkan foto kondisi mie dan bumbu yang bocor foto kode produksi dan tanggal kadaluarsa ke dm terima kasih 🙏'],\n",
       "       ['halo kak mohon maaf atas ketidaknyamanannya jika berkenan yuk sini sini mampir ke dm jangan lupa untuk menyertakan video di atas foto mie dan bumbu foto kode produksi dan serta foto tanggal kadaluarsa produk yang bermasalah ya terima kasih 🙏'],\n",
       "       ['halo kak mohon maaf atas ketidaknyamanannya ya mohon bisa mengirimkan foto kondisi mie dan bumbu sekalian foto kode produksi dan tanggal kadaluarsa produk tersebut ya terima kasih 🙏'],\n",
       "       ['yang sorenya indah ditemani senja yang cantik wajib banget dinikmati di mie tag orangnya yang mau kalian ajak ke mie sore hari 😉 📸naninabila'],\n",
       "       ['malemmalem overthinking sendiri beli apa beli a ya beli apa beli b ya endingnya tetep sama beli juga 😜😋'],\n",
       "       ['siap bos 🤩'],\n",
       "       ['pesta yang auto bikin kalian kenyang🤩 fest dengan menu paket favorite kalian bisa didapatkan saat dinein take away atau order melalui gofood grabfood dan shopeefood😊 buruan diorder sekarang lebih puas lebih cepet juga pesannya 😁'],\n",
       "       ['dan candu yang satu ini bersertifikat halal 😌'],\n",
       "       ['scan sekarang juga caranya kalian buka google dan tekan icon kamera kemudian akan muncul google lens dan arahkan kamera ke barcode hingga muncul link form customer care kalian bisa beri penilaian tentang beberapa aspek pelayanan untuk proses perbaikan kedepannya😉'],\n",
       "       ['kalau hujanhujan sukanya pesen minuman es atau hot gaess'],\n",
       "       ['besok mimin yang nungguin 😊'],\n",
       "       ['sore hari mimin bawa kabar buat warga tasikmalaya nih😌 kosongin hari kamis buat ke grand opening mie yuk 🗓️ kamis desember 🕗 wib 🏡 jl siliwangi tugujaya cihideung ✅ dinein take away grabfood shopeefood dan gofood 😉'],\n",
       "       ['mimin masukin list nih'],\n",
       "       ['cabang baru lagi di pulau sumatera🥳 yuk datang ke grand opening mie binjai hari ini 🗓 sabtu desember 🕗 wib 🏡 jl soekarno hatta timbang langkat kec binjai tim kota binjai ✅️ dine in take away grabfood shopeefood amp gofood 😉'],\n",
       "       ['mimin juga pengen cepetcepet buka di batam doain ya semoga segera terlaksana 😊'],\n",
       "       ['siapa yang nggak sabaran buat nunggu hadirnya mie di ciamis🙋♂️ bisa nih weekend kali ini ke cabang baru mie ciamis 🗓️ sabtu desember 🕗 wib 🏡 jl jend ahmad yani no ✅ dinein take away grabfood shopeefood amp gofood 😉'],\n",
       "       ['weh siapsiap mimin catet dulu ya kak salam buat temennya ya 😉'],\n",
       "       ['siyap mimin masukin list dulu ya 😊😉'],\n",
       "       ['jumat ini ada cabang baru nih di merr 🥳 tandain ya gaess tanggal dan jamnya 🗓️ jumat desember 🕘 wib 🏡 jl dr ir h soekarno no mulyorejo ✅ dinein take away grabfood shopeefood amp gofood sstt bisa banget buat ngedate sama ayang 😉'],\n",
       "       ['hari ini datang ya'],\n",
       "       ['maunya buka dimana nih kak'],\n",
       "       ['besok ya kak 😊'],\n",
       "       ['mie akan hadir di ciamis gaess🥳 jangan lupa catet tanggalnya yaa 🗓️ sabtu desember 🕗 wib 🏡 jl jend ahmad yani no ✅ dinein take away grabfood shopeefood amp gofood 😉 kirakira ajak siapa ya ke grand opening mie ciamis'],\n",
       "       ['mimin juga pengennya buka di lumajang 😭😭 doain ya semoga segera buka disana'],\n",
       "       ['orang lampung wajib merapat nih ke grand opening mie 🥳 hari ini 🗓 minggu des 🕗 wib 🏡 jl za pagar alam gedong meneng kec kedaton kota bandar lampung lampung ✅️ dine in take away grabfood shopeefood dan gofood 😉'],\n",
       "       ['mimin kira bakalan pesen yang panas biar imbang dengan cuacanya 🤣'],\n",
       "       ['hari ini buka ya kak ☺️'],\n",
       "       ['hai kak cabang bekasi bisa dilihat di link bio mimin ya mimin tunggu kedatangannya 😁'],\n",
       "       ['sudah bisa pesen hot lemon tea loh kak hot orange juga nggak kalah enaknya 😄'],\n",
       "       ['besok mimin tunggu ya 😊'],\n",
       "       ['bangun pagi buat siapsiap ke grand opening mie merr nih🥳 🗓️ jumat desember 🕘 wib 🏡 jl dr ir h soekarno no mulyorejo ✅ dinein take away grabfood shopeefood amp gofood jangan lupa mampir gaess ajak bestiee juga ya ke 😉'],\n",
       "       ['grand opening mie ciamis🥳 buruan dateng gaess hari ini 🗓️ sabtu desember 🕗 wib 🏡 jl jend ahmad yani no ✅ dinein take away grabfood shopeefood amp gofood sabi nih weekend di 😉'],\n",
       "       ['mau lah doain ya semoga kesampaian buka disana 😉'],\n",
       "       ['🎶rek ayo rek mlakumlaku nang 🎶 ojok lali mene nang grand opening mie surabaya merr 🗓️ jumat desember 🕘 wib 🏡 jl dr ir h soekarno no mulyorejo ✅ dinein take away grabfood shopeefood dan gofood 😉'],\n",
       "       ['wah pingin banget loh mimin sampein ke pusat ya sarannya terima kasih kak 😊'],\n",
       "       ['hai kak tungguin informasi dari mimin ya 😊'],\n",
       "       ['kesenengan mimin juga kalau ini 😅'],\n",
       "       ['kan pingin deket sama kakaknya'],\n",
       "       ['mimin catet dulu yaa 😉'],\n",
       "       ['hai kak mohon maaf ketidaknyamanannya untuk komplain kakak bisa menghubungi nomor cs mie yang ada di link bio untuk memudahkan kami dalam proses follow up ke resto cabang yang terkait atau juga bisa mengisi qr code pada bill 🙏'],\n",
       "       ['wait wait mimin catet dulu ya 😉'],\n",
       "       ['wah terima kasih udah order mie kak mimin tunggu kedatangannya lagi ya 😊']],\n",
       "      dtype=object)"
      ]
     },
     "execution_count": 111,
     "metadata": {},
     "output_type": "execute_result"
    }
   ],
   "source": [
    "df.values"
   ]
  },
  {
   "cell_type": "code",
   "execution_count": 100,
   "metadata": {},
   "outputs": [],
   "source": [
    "df.to_csv('result.csv')"
   ]
  }
 ],
 "metadata": {
  "kernelspec": {
   "display_name": "Python 3",
   "language": "python",
   "name": "python3"
  },
  "language_info": {
   "codemirror_mode": {
    "name": "ipython",
    "version": 3
   },
   "file_extension": ".py",
   "mimetype": "text/x-python",
   "name": "python",
   "nbconvert_exporter": "python",
   "pygments_lexer": "ipython3",
   "version": "3.10.9"
  }
 },
 "nbformat": 4,
 "nbformat_minor": 2
}
